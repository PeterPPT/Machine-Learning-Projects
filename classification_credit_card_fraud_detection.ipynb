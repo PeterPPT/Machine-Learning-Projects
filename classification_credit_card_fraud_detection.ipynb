{
 "cells": [
  {
   "cell_type": "markdown",
   "metadata": {},
   "source": [
    "#### Credit Card Fraud Detection\n",
    "* Download the dataset from the kaggle: https://www.kaggle.com/datasets/mlg-ulb/creditcardfraud\n",
    "* This dataset presents transactions that occurred in two days, where we have 492 frauds out of 284,807 transactions. The dataset is highly unbalanced, the positive class (frauds) account for 0.172% of all transactions.\n",
    "* The objective is to detect credit card fraud from the given data."
   ]
  },
  {
   "cell_type": "markdown",
   "metadata": {},
   "source": [
    "Import require libraries"
   ]
  },
  {
   "cell_type": "code",
   "execution_count": 4,
   "metadata": {},
   "outputs": [],
   "source": [
    "from library.preprocess.preprocess import preprocess\n",
    "from library.feature_engineering.feature_selection import feature_selection\n",
    "from library.feature_engineering.hyper_params_tune import hyper_params_tune\n",
    "import pandas as pd\n",
    "import seaborn as sns\n",
    "import matplotlib.pyplot as plt\n",
    "from sklearn.model_selection import train_test_split\n",
    "from xgboost import XGBClassifier\n",
    "from sklearn.metrics import balanced_accuracy_score, precision_score, recall_score, f1_score\n",
    "from sklearn.utils.class_weight import compute_sample_weight\n",
    "from sklearn import metrics\n",
    "import os"
   ]
  },
  {
   "cell_type": "markdown",
   "metadata": {},
   "source": [
    "Current directory"
   ]
  },
  {
   "cell_type": "code",
   "execution_count": 5,
   "metadata": {},
   "outputs": [],
   "source": [
    "current_dir = os.getcwd()"
   ]
  },
  {
   "cell_type": "markdown",
   "metadata": {},
   "source": [
    "Read data"
   ]
  },
  {
   "cell_type": "code",
   "execution_count": 6,
   "metadata": {},
   "outputs": [
    {
     "name": "stdout",
     "output_type": "stream",
     "text": [
      "<class 'pandas.core.frame.DataFrame'>\n",
      "RangeIndex: 284807 entries, 0 to 284806\n",
      "Data columns (total 31 columns):\n",
      " #   Column  Non-Null Count   Dtype  \n",
      "---  ------  --------------   -----  \n",
      " 0   Time    284807 non-null  float64\n",
      " 1   V1      284807 non-null  float64\n",
      " 2   V2      284807 non-null  float64\n",
      " 3   V3      284807 non-null  float64\n",
      " 4   V4      284807 non-null  float64\n",
      " 5   V5      284807 non-null  float64\n",
      " 6   V6      284807 non-null  float64\n",
      " 7   V7      284807 non-null  float64\n",
      " 8   V8      284807 non-null  float64\n",
      " 9   V9      284807 non-null  float64\n",
      " 10  V10     284807 non-null  float64\n",
      " 11  V11     284807 non-null  float64\n",
      " 12  V12     284807 non-null  float64\n",
      " 13  V13     284807 non-null  float64\n",
      " 14  V14     284807 non-null  float64\n",
      " 15  V15     284807 non-null  float64\n",
      " 16  V16     284807 non-null  float64\n",
      " 17  V17     284807 non-null  float64\n",
      " 18  V18     284807 non-null  float64\n",
      " 19  V19     284807 non-null  float64\n",
      " 20  V20     284807 non-null  float64\n",
      " 21  V21     284807 non-null  float64\n",
      " 22  V22     284807 non-null  float64\n",
      " 23  V23     284807 non-null  float64\n",
      " 24  V24     284807 non-null  float64\n",
      " 25  V25     284807 non-null  float64\n",
      " 26  V26     284807 non-null  float64\n",
      " 27  V27     284807 non-null  float64\n",
      " 28  V28     284807 non-null  float64\n",
      " 29  Amount  284807 non-null  float64\n",
      " 30  Class   284807 non-null  int64  \n",
      "dtypes: float64(30), int64(1)\n",
      "memory usage: 67.4 MB\n",
      "None\n"
     ]
    }
   ],
   "source": [
    "file_path = os.path.join(current_dir,\"storage/input/creditcard.csv\")\n",
    "\n",
    "df = pd.read_csv(file_path)\n",
    "# print content information in df\n",
    "print(df.info())"
   ]
  },
  {
   "cell_type": "markdown",
   "metadata": {},
   "source": [
    "Check whether there are missing value in dataset"
   ]
  },
  {
   "cell_type": "code",
   "execution_count": 7,
   "metadata": {},
   "outputs": [
    {
     "name": "stdout",
     "output_type": "stream",
     "text": [
      "Are there missing value in dataset:  False\n"
     ]
    }
   ],
   "source": [
    "pre_process = preprocess()\n",
    "result = pre_process.check_missingvalue(df)\n",
    "print(\"Are there missing value in dataset: \", result['HasMissingValue'])"
   ]
  },
  {
   "cell_type": "markdown",
   "metadata": {},
   "source": [
    "Check for class balance or imbalance"
   ]
  },
  {
   "cell_type": "code",
   "execution_count": 8,
   "metadata": {},
   "outputs": [
    {
     "data": {
      "image/png": "[encoded data removed]",
      "text/plain": [
       "<Figure size 640x480 with 1 Axes>"
      ]
     },
     "metadata": {},
     "output_type": "display_data"
    }
   ],
   "source": [
    "# Counts unique class value\n",
    "class_ = df[\"Class\"].value_counts()\n",
    "class_ = pd.DataFrame({'Class': class_.index,'values': class_.values})\n",
    "# plot bar chart of different class count\n",
    "ax = sns.barplot(x = 'Class', y = 'values', data = class_)\n",
    "# Add values above bars\n",
    "for i, v in enumerate(class_['values']):\n",
    "   ax.text(i, v + 0.3, str(v), ha='center')\n",
    "# Show the plot\n",
    "plt.show()"
   ]
  },
  {
   "cell_type": "markdown",
   "metadata": {},
   "source": [
    "* From above bar chart there are more number of class 0 samples than class 1. Hence, the dataset is unbalance."
   ]
  },
  {
   "cell_type": "markdown",
   "metadata": {},
   "source": [
    "Split dataset into train and test data\n",
    "* Training = 70% and Test = 30%"
   ]
  },
  {
   "cell_type": "code",
   "execution_count": 9,
   "metadata": {},
   "outputs": [],
   "source": [
    "# Get column name\n",
    "column_headers = list(df.columns.values)\n",
    "# remove class from the list\n",
    "column_headers.remove(\"Class\")\n",
    "\n",
    "X=df.drop([\"Class\"],axis=1).values\n",
    "y=df[\"Class\"].values\n",
    "\n",
    "# Split training and test data using sklearn train test split (training data=70% and test data=30%)\n",
    "X_train,X_test,y_train,y_test=train_test_split(X,y,test_size=0.3,random_state=42)\n",
    "\n",
    "X_train = pd.DataFrame(X_train, columns=column_headers)\n",
    "X_test = pd.DataFrame(X_test, columns=column_headers)\n",
    "\n",
    "y_train = pd.DataFrame(y_train, columns=['label'])\n",
    "y_test = pd.DataFrame(y_test, columns=['label'])"
   ]
  },
  {
   "cell_type": "markdown",
   "metadata": {},
   "source": [
    "Normalized train and test data"
   ]
  },
  {
   "cell_type": "code",
   "execution_count": 10,
   "metadata": {},
   "outputs": [],
   "source": [
    "# Normalize data\n",
    "normalize_model, normalize_warn = pre_process.normalization_fit(data=X_train, normalization_method='robustscaler')\n",
    "X_train_normalize ,transform_warn = pre_process.model_transform(normalize_model['scaler'], X_train)\n",
    "X_train_transformed = X_train_normalize['transformed_x']\n",
    "\n",
    "X_test_normalize, transform_warn = pre_process.model_transform(normalize_model['scaler'], X_test)\n",
    "X_test_transformed = X_test_normalize['transformed_x']"
   ]
  },
  {
   "cell_type": "markdown",
   "metadata": {},
   "source": [
    "Select suitable features from 31 features dimension by using XGBoost to minimize curse of dimensionality"
   ]
  },
  {
   "cell_type": "code",
   "execution_count": null,
   "metadata": {},
   "outputs": [],
   "source": [
    "features_selection= feature_selection()\n",
    "# Features selection\n",
    "feature_select = features_selection.feature_selection(data=X_train_transformed, label=y_train)"
   ]
  },
  {
   "cell_type": "code",
   "execution_count": 12,
   "metadata": {},
   "outputs": [
    {
     "name": "stdout",
     "output_type": "stream",
     "text": [
      "Full features importance scores ...\n",
      "   Feature  Feature importance\n",
      "0      V14            0.449287\n",
      "1       V4            0.066729\n",
      "2       V8            0.044945\n",
      "3      V12            0.039442\n",
      "4   Amount            0.026447\n",
      "5      V20            0.024062\n",
      "6      V19            0.021699\n",
      "7       V3            0.018900\n",
      "8      V27            0.018710\n",
      "9       V2            0.018689\n",
      "10     V22            0.018411\n",
      "11     V17            0.017795\n",
      "12     V26            0.017179\n",
      "13      V7            0.016992\n",
      "14      V1            0.016682\n",
      "15     V10            0.016401\n",
      "16     V25            0.016363\n",
      "17     V18            0.015675\n",
      "18     V24            0.015647\n",
      "19      V6            0.015208\n",
      "20      V5            0.014666\n",
      "21     V23            0.014283\n",
      "22     V13            0.012647\n",
      "23     V28            0.012133\n",
      "24     V15            0.011815\n",
      "25      V9            0.009582\n",
      "26    Time            0.008354\n",
      "27     V21            0.008246\n",
      "28     V11            0.007651\n",
      "29     V16            0.005361\n"
     ]
    }
   ],
   "source": [
    "print('Full features importance scores ...')\n",
    "print(feature_select['full_features_importance_scores'])"
   ]
  },
  {
   "cell_type": "code",
   "execution_count": 13,
   "metadata": {},
   "outputs": [
    {
     "name": "stdout",
     "output_type": "stream",
     "text": [
      "Selected features ...\n",
      "['V14', 'V4', 'V8', 'V12', 'Amount', 'V20', 'V19', 'V3', 'V27', 'V2', 'V22', 'V17', 'V26', 'V7', 'V1', 'V10', 'V25', 'V18', 'V24', 'V6']\n"
     ]
    }
   ],
   "source": [
    "# Top 20 features\n",
    "print('Selected features ...')\n",
    "print(feature_select['selected_features_names'])"
   ]
  },
  {
   "cell_type": "code",
   "execution_count": 14,
   "metadata": {},
   "outputs": [],
   "source": [
    "X_train_selected_feats = X_train_transformed[feature_select['selected_features_names']]\n",
    "X_test_seleccted_feats = X_test_transformed[feature_select['selected_features_names']]"
   ]
  },
  {
   "cell_type": "markdown",
   "metadata": {},
   "source": [
    "XGBoost model Hyper paramerters tune and saved tuned hyper parameters."
   ]
  },
  {
   "cell_type": "markdown",
   "metadata": {},
   "source": [
    "* Since the dataset is imbalance, RepeatedStratifiedKFold crosss validation method is used to fine tune the hyperparameters of xgboost classifier.\n",
    "* The StratifiedKFold is a variation of k-fold which returns stratified folds: each set contains approximately the same percentage of samples of each target class as the complete set."
   ]
  },
  {
   "cell_type": "code",
   "execution_count": 15,
   "metadata": {},
   "outputs": [],
   "source": [
    "file_path = os.path.join(current_dir,\"storage/output/creditcard_xgb_best_params.csv\")\n",
    "if os.path.exists(file_path):\n",
    "    # Read best parameters\n",
    "    best_params = pd.read_csv(file_path)\n",
    "    n_estimators = best_params['n_estimators'].iloc[0]\n",
    "    max_depth = best_params['max_depth'].iloc[0]\n",
    "    eta = best_params['eta'].iloc[0]\n",
    "else:\n",
    "    hpt= hyper_params_tune()\n",
    "    # Parameters to be tunes\n",
    "    params = {'eta': [0.001, 0.01, 0.1, 1.0],\n",
    "            'n_estimators': [10, 50, 100, 500, 1000, 5000],\n",
    "            'max_depth': [1, 2, 3, 4, 5, 6, 7, 8, 9, 10]}\n",
    "    # model\n",
    "    xgb_classifier = XGBClassifier()\n",
    "    params = hpt.tune(data=X_train_selected_feats, label=y_train, params=params, model=xgb_classifier)\n",
    "    # extract best parameters\n",
    "    n_estimators = params['n_estimators']\n",
    "    max_depth = params['max_depth']\n",
    "    eta = params['eta']\n",
    "    # Save best parameters\n",
    "    best_params = pd.DataFrame([params])\n",
    "    best_params.to_csv(os.path.join(current_dir,\"storage/output/creditcard_xgb_best_params.csv\"))"
   ]
  },
  {
   "cell_type": "markdown",
   "metadata": {},
   "source": [
    "Train XGBoost classifier\n",
    "* Weighted sample loss method was used to train XGBoost model because dataset is imbalanced. \n",
    "* The technique assigned different weights to each class based on the number of samples in the class. \n",
    "* The purpose of weighted sample loss is to avoid the model from being biased toward the majority class by giving the minority class greater weight during training."
   ]
  },
  {
   "cell_type": "code",
   "execution_count": null,
   "metadata": {},
   "outputs": [],
   "source": [
    "# train xgboost classifier\n",
    "xgb_classifier = XGBClassifier(n_estimators=n_estimators, max_depth=max_depth, eta=eta)\n",
    "label= y_train.values.flatten() # flatten array to be (nsample,)\n",
    "xtrain = X_train_selected_feats.values\n",
    "sample_weights = compute_sample_weight(class_weight='balanced',y=label) #provide your own target name\n",
    "xgb_classifier.fit(xtrain,label,sample_weight=sample_weights)"
   ]
  },
  {
   "cell_type": "code",
   "execution_count": 17,
   "metadata": {},
   "outputs": [
    {
     "name": "stdout",
     "output_type": "stream",
     "text": [
      "Train balanced accuracy:  1.0\n",
      "Test balanced accuracy:  0.9264295599492214\n",
      "Train precision:  1.0\n",
      "Test precision:  0.9714275096337461\n",
      "Train recall:  1.0\n",
      "test recall:  0.9264295599492214\n",
      "Train f1-score:  1.0\n",
      "Test f1-score:  0.9477973279247405\n"
     ]
    }
   ],
   "source": [
    "# Train predict\n",
    "ytrain_predict = xgb_classifier.predict(X_train_selected_feats.values)\n",
    "# Test predict\n",
    "ytest_predict = xgb_classifier.predict(X_test_seleccted_feats.values)\n",
    "\n",
    "# Calculate accuracy\n",
    "ytrain = y_train.values.flatten()\n",
    "print('Train balanced accuracy: ',balanced_accuracy_score(ytrain, ytrain_predict))\n",
    "\n",
    "ytest = y_test.values.flatten()\n",
    "print('Test balanced accuracy: ',balanced_accuracy_score(ytest, ytest_predict))\n",
    "\n",
    "# Calculate precision\n",
    "print('Train precision: ',precision_score(ytrain, ytrain_predict, average='macro'))\n",
    "print('Test precision: ',precision_score(ytest, ytest_predict, average='macro'))\n",
    "# Calculate recall\n",
    "print('Train recall: ',recall_score(ytrain, ytrain_predict, average='macro'))\n",
    "print('test recall: ',recall_score(ytest, ytest_predict, average='macro'))\n",
    "# Calculate f1-score\n",
    "print('Train f1-score: ',f1_score(ytrain, ytrain_predict, average='macro'))\n",
    "print('Test f1-score: ',f1_score(ytest, ytest_predict, average='macro'))"
   ]
  },
  {
   "cell_type": "markdown",
   "metadata": {},
   "source": [
    "Plot AUROC curve"
   ]
  },
  {
   "cell_type": "code",
   "execution_count": 18,
   "metadata": {},
   "outputs": [
    {
     "name": "stdout",
     "output_type": "stream",
     "text": [
      "AUROC of training phase:  1.0\n",
      "AUROC of test phase:  0.9865704765969829\n"
     ]
    },
    {
     "data": {
      "image/png": "[encoded data removed]",
      "text/plain": [
       "<Figure size 500x500 with 1 Axes>"
      ]
     },
     "metadata": {},
     "output_type": "display_data"
    }
   ],
   "source": [
    "# Train\n",
    "ytrain_pred_proba = xgb_classifier.predict_proba(X_train_selected_feats)[::,1]\n",
    "fpr_train, tpr_train, _ = metrics.roc_curve(ytrain,  ytrain_pred_proba)\n",
    "\n",
    "print(\"AUROC of training phase: \", metrics.auc(fpr_train, tpr_train))\n",
    "\n",
    "# Test\n",
    "ytest_pred_proba = xgb_classifier.predict_proba(X_test_seleccted_feats)[::,1]\n",
    "fpr_test, tpr_test, _ = metrics.roc_curve(ytest,  ytest_pred_proba)\n",
    "\n",
    "print(\"AUROC of test phase: \", metrics.auc(fpr_test, tpr_test))\n",
    "\n",
    "#create ROC curve\n",
    "plt.figure(figsize=(5,5))\n",
    "plt.plot(fpr_train,tpr_train, label='train')\n",
    "plt.plot(fpr_test, tpr_test, label='test')\n",
    "plt.legend()\n",
    "plt.ylabel('True Positive Rate')\n",
    "plt.xlabel('False Positive Rate')\n",
    "plt.show()"
   ]
  },
  {
   "cell_type": "markdown",
   "metadata": {},
   "source": [
    "References:\n",
    "1. 3.1. Cross-validation: evaluating estimator performance. (n.d.). Scikit-learn. https://scikit-learn.org/stable/modules/cross_validation.html#repeated-k-fold\n",
    "\n",
    "2. What is Weighted Sample Loss in Keras Tensorflow? | Saturn Cloud Blog. (2023, August 25). https://saturncloud.io/blog/what-is-weighted-sample-loss-in-keras-tensorflow/#:~:text=In%20conclusion%2C%20weighted%20sample%20loss,biased%20towards%20the%20majority%20class.\n",
    "\n",
    "3. Brownlee, J. (2020). How to configure XGBOOST for imbalanced Classification. MachineLearningMastery.com. https://machinelearningmastery.com/xgboost-for-imbalanced-classification/\n",
    "\n",
    "4. XGBoost for multiclassification and imbalanced data. (n.d.). Stack Overflow. https://stackoverflow.com/questions/67868420/xgboost-for-multiclassification-and-imbalanced-data\n",
    "\n",
    "5. Python API Reference — xgboost 1.7.6 documentation. (n.d.). https://xgboost.readthedocs.io/en/stable/python/python_api.html\n",
    "\n",
    "6. Andrea Dal Pozzolo, Olivier Caelen, Reid A. Johnson and Gianluca Bontempi. Calibrating Probability with Undersampling for Unbalanced Classification. In Symposium on Computational Intelligence and Data Mining (CIDM), IEEE, 2015\n",
    "\n",
    "7. Dal Pozzolo, Andrea; Caelen, Olivier; Le Borgne, Yann-Ael; Waterschoot, Serge; Bontempi, Gianluca. Learned lessons in credit card fraud detection from a practitioner perspective, Expert systems with applications,41,10,4915-4928,2014, Pergamon\n",
    "\n",
    "8. Dal Pozzolo, Andrea; Boracchi, Giacomo; Caelen, Olivier; Alippi, Cesare; Bontempi, Gianluca. Credit card fraud detection: a realistic modeling and a novel learning strategy, IEEE transactions on neural networks and learning systems,29,8,3784-3797,2018,IEEE\n",
    "\n",
    "9. Dal Pozzolo, Andrea Adaptive Machine learning for credit card fraud detection ULB MLG PhD thesis (supervised by G. Bontempi)\n",
    "\n",
    "10. Carcillo, Fabrizio; Dal Pozzolo, Andrea; Le Borgne, Yann-Aël; Caelen, Olivier; Mazzer, Yannis; Bontempi, Gianluca. Scarff: a scalable framework for streaming credit card fraud detection with Spark, Information fusion,41, 182-194,2018,Elsevier\n",
    "\n",
    "11. Carcillo, Fabrizio; Le Borgne, Yann-Aël; Caelen, Olivier; Bontempi, Gianluca. Streaming active learning strategies for real-life credit card fraud detection: assessment and visualization, International Journal of Data Science and Analytics, 5,4,285-300,2018,Springer International Publishing\n",
    "\n",
    "12. Bertrand Lebichot, Yann-Aël Le Borgne, Liyun He, Frederic Oblé, Gianluca Bontempi Deep-Learning Domain Adaptation Techniques for Credit Cards Fraud Detection, INNSBDDL 2019: Recent Advances in Big Data and Deep Learning, pp 78-88, 2019\n",
    "\n",
    "13. Fabrizio Carcillo, Yann-Aël Le Borgne, Olivier Caelen, Frederic Oblé, Gianluca Bontempi Combining Unsupervised and Supervised Learning in Credit Card Fraud Detection Information Sciences, 2019\n",
    "\n",
    "14. Yann-Aël Le Borgne, Gianluca Bontempi Reproducible machine Learning for Credit Card Fraud Detection - Practical Handbook\n",
    "\n",
    "15. Bertrand Lebichot, Gianmarco Paldino, Wissam Siblini, Liyun He, Frederic Oblé, Gianluca Bontempi Incremental learning strategies for credit cards fraud detection, IInternational Journal of Data Science and Analytics"
   ]
  }
 ],
 "metadata": {
  "interpreter": {
   "hash": "7a8603ccbd2d8b070d71fca113a51bee38e5d9eaeb1ab901c45d498760580e24"
  },
  "kernelspec": {
   "display_name": "Python 3.11.3 64-bit ('deep_learning_test-Kesrgl1c': pipenv)",
   "language": "python",
   "name": "python3"
  },
  "language_info": {
   "codemirror_mode": {
    "name": "ipython",
    "version": 3
   },
   "file_extension": ".py",
   "mimetype": "text/x-python",
   "name": "python",
   "nbconvert_exporter": "python",
   "pygments_lexer": "ipython3",
   "version": "3.7.15"
  },
  "orig_nbformat": 4
 },
 "nbformat": 4,
 "nbformat_minor": 2
}
